{
 "cells": [
  {
   "cell_type": "markdown",
   "metadata": {},
   "source": [
    "# WeatherPy\n",
    "\n",
    "---\n",
    "\n",
    "## Starter Code to Generate Random Geographic Coordinates and a List of Cities"
   ]
  },
  {
   "cell_type": "code",
   "execution_count": 2,
   "metadata": {
    "scrolled": true
   },
   "outputs": [],
   "source": [
    "# Dependencies and Setup\n",
    "import matplotlib.pyplot as plt\n",
    "import pandas as pd\n",
    "import numpy as np\n",
    "import requests\n",
    "import time\n",
    "from scipy.stats import linregress\n",
    "import json\n",
    "\n",
    "# Impor the OpenWeatherMap API key\n",
    "from api_keys import weather_api_key\n",
    "\n",
    "# Import citipy to determine the cities based on latitude and longitude\n",
    "from citipy import citipy"
   ]
  },
  {
   "cell_type": "markdown",
   "metadata": {},
   "source": [
    "### Generate the Cities List by Using the `citipy` Library"
   ]
  },
  {
   "cell_type": "code",
   "execution_count": 3,
   "metadata": {},
   "outputs": [
    {
     "name": "stdout",
     "output_type": "stream",
     "text": [
      "Number of cities in the list: 590\n"
     ]
    }
   ],
   "source": [
    "# Empty list for holding the latitude and longitude combinations\n",
    "lat_lngs = []\n",
    "\n",
    "# Empty list for holding the cities names\n",
    "cities = []\n",
    "\n",
    "# Range of latitudes and longitudes\n",
    "lat_range = (-90, 90)\n",
    "lng_range = (-180, 180)\n",
    "\n",
    "# Create a set of random lat and lng combinations\n",
    "lats = np.random.uniform(lat_range[0], lat_range[1], size=1500)\n",
    "lngs = np.random.uniform(lng_range[0], lng_range[1], size=1500)\n",
    "lat_lngs = zip(lats, lngs)\n",
    "\n",
    "# Identify nearest city for each lat, lng combination\n",
    "for lat_lng in lat_lngs:\n",
    "    city = citipy.nearest_city(lat_lng[0], lat_lng[1]).city_name\n",
    "    \n",
    "    # If the city is unique, then add it to a our cities list\n",
    "    if city not in cities:\n",
    "        cities.append(city)\n",
    "\n",
    "# Print the city count to confirm sufficient count\n",
    "print(f\"Number of cities in the list: {len(cities)}\")"
   ]
  },
  {
   "cell_type": "markdown",
   "metadata": {},
   "source": [
    "---"
   ]
  },
  {
   "cell_type": "markdown",
   "metadata": {},
   "source": [
    "## Requirement 1: Create Plots to Showcase the Relationship Between Weather Variables and Latitude\n",
    "\n",
    "### Use the OpenWeatherMap API to retrieve weather data from the cities list generated in the started code"
   ]
  },
  {
   "cell_type": "code",
   "execution_count": 4,
   "metadata": {},
   "outputs": [
    {
     "name": "stdout",
     "output_type": "stream",
     "text": [
      "Beginning Data Retrieval     \n",
      "-----------------------------\n",
      "Processing Record 1 of Set 1 | avarua\n",
      "Processing Record 2 of Set 1 | meadow lake\n",
      "Processing Record 3 of Set 1 | paamiut\n",
      "Processing Record 4 of Set 1 | hithadhoo\n",
      "Processing Record 5 of Set 1 | karkaralinsk\n",
      "City not found. Skipping...\n",
      "Processing Record 6 of Set 1 | geraldton\n",
      "Processing Record 7 of Set 1 | punta arenas\n",
      "Processing Record 8 of Set 1 | jamestown\n",
      "Processing Record 9 of Set 1 | hambantota\n",
      "Processing Record 10 of Set 1 | vaitupu\n",
      "City not found. Skipping...\n",
      "Processing Record 11 of Set 1 | buala\n",
      "Processing Record 12 of Set 1 | rikitea\n",
      "Processing Record 13 of Set 1 | faya\n",
      "Processing Record 14 of Set 1 | dikson\n",
      "Processing Record 15 of Set 1 | mys shmidta\n",
      "City not found. Skipping...\n",
      "Processing Record 16 of Set 1 | macamic\n",
      "Processing Record 17 of Set 1 | mar del plata\n",
      "Processing Record 18 of Set 1 | buraydah\n",
      "Processing Record 19 of Set 1 | cape town\n",
      "Processing Record 20 of Set 1 | la palma\n",
      "Processing Record 21 of Set 1 | lavrentiya\n",
      "Processing Record 22 of Set 1 | puerto ayora\n",
      "Processing Record 23 of Set 1 | ballina\n",
      "Processing Record 24 of Set 1 | hermanus\n",
      "Processing Record 25 of Set 1 | chapais\n",
      "Processing Record 26 of Set 1 | atuona\n",
      "Processing Record 27 of Set 1 | aklavik\n",
      "Processing Record 28 of Set 1 | port elizabeth\n",
      "Processing Record 29 of Set 1 | bluff\n",
      "Processing Record 30 of Set 1 | esperance\n",
      "Processing Record 31 of Set 1 | taolanaro\n",
      "City not found. Skipping...\n",
      "Processing Record 32 of Set 1 | beringovskiy\n",
      "Processing Record 33 of Set 1 | grande prairie\n",
      "Processing Record 34 of Set 1 | santander\n",
      "Processing Record 35 of Set 1 | torbay\n",
      "Processing Record 36 of Set 1 | busselton\n",
      "Processing Record 37 of Set 1 | cefalu\n",
      "Processing Record 38 of Set 1 | corrooy\n",
      "Processing Record 39 of Set 1 | albany\n",
      "Processing Record 40 of Set 1 | rio gallegos\n",
      "Processing Record 41 of Set 1 | castro\n",
      "Processing Record 42 of Set 1 | fairbanks\n",
      "Processing Record 43 of Set 1 | illoqqortoormiut\n",
      "City not found. Skipping...\n",
      "Processing Record 44 of Set 1 | narsaq\n",
      "Processing Record 45 of Set 1 | chokurdakh\n",
      "Processing Record 46 of Set 1 | butaritari\n",
      "Processing Record 47 of Set 1 | husavik\n",
      "Processing Record 48 of Set 1 | richland\n",
      "Processing Record 49 of Set 1 | nome\n",
      "Processing Record 50 of Set 1 | namatanai\n",
      "Processing Record 0 of Set 2 | dingle\n",
      "Processing Record 1 of Set 2 | carnarvon\n",
      "Processing Record 2 of Set 2 | san cristobal\n",
      "Processing Record 3 of Set 2 | kavieng\n",
      "Processing Record 4 of Set 2 | cockburn town\n",
      "Processing Record 5 of Set 2 | qasigiannguit\n",
      "Processing Record 6 of Set 2 | broome\n",
      "Processing Record 7 of Set 2 | noumea\n",
      "Processing Record 8 of Set 2 | saldanha\n",
      "Processing Record 9 of Set 2 | kruisfontein\n",
      "Processing Record 10 of Set 2 | villa guerrero\n",
      "Processing Record 11 of Set 2 | guerrero negro\n",
      "Processing Record 12 of Set 2 | attawapiskat\n",
      "City not found. Skipping...\n",
      "Processing Record 13 of Set 2 | khandagayty\n",
      "Processing Record 14 of Set 2 | severo-kurilsk\n",
      "Processing Record 15 of Set 2 | cherskiy\n",
      "Processing Record 16 of Set 2 | vanimo\n",
      "Processing Record 17 of Set 2 | mouzakion\n",
      "City not found. Skipping...\n",
      "Processing Record 18 of Set 2 | saskylakh\n",
      "Processing Record 19 of Set 2 | richards bay\n",
      "Processing Record 20 of Set 2 | kajaani\n",
      "Processing Record 21 of Set 2 | hobart\n",
      "Processing Record 22 of Set 2 | juneau\n",
      "Processing Record 23 of Set 2 | itarema\n",
      "Processing Record 24 of Set 2 | nikolskoye\n",
      "Processing Record 25 of Set 2 | belushya guba\n",
      "City not found. Skipping...\n",
      "Processing Record 26 of Set 2 | litoral del san juan\n",
      "City not found. Skipping...\n",
      "Processing Record 27 of Set 2 | clyde river\n",
      "Processing Record 28 of Set 2 | vaini\n",
      "Processing Record 29 of Set 2 | kavaratti\n",
      "Processing Record 30 of Set 2 | samarai\n",
      "Processing Record 31 of Set 2 | hilo\n",
      "Processing Record 32 of Set 2 | sorkjosen\n",
      "Processing Record 33 of Set 2 | emmauss\n",
      "Processing Record 34 of Set 2 | kaitangata\n",
      "Processing Record 35 of Set 2 | luderitz\n",
      "Processing Record 36 of Set 2 | nanortalik\n",
      "Processing Record 37 of Set 2 | ruatoria\n",
      "City not found. Skipping...\n",
      "Processing Record 38 of Set 2 | mataura\n",
      "Processing Record 39 of Set 2 | east london\n",
      "Processing Record 40 of Set 2 | bilibino\n",
      "Processing Record 41 of Set 2 | upernavik\n",
      "Processing Record 42 of Set 2 | ancud\n",
      "Processing Record 43 of Set 2 | tuktoyaktuk\n",
      "Processing Record 44 of Set 2 | sorong\n",
      "Processing Record 45 of Set 2 | yumen\n",
      "Processing Record 46 of Set 2 | kapaa\n",
      "Processing Record 47 of Set 2 | nguiu\n",
      "City not found. Skipping...\n",
      "Processing Record 48 of Set 2 | vestmannaeyjar\n",
      "Processing Record 49 of Set 2 | juba\n",
      "Processing Record 0 of Set 3 | umzimvubu\n",
      "City not found. Skipping...\n",
      "Processing Record 1 of Set 3 | eureka\n",
      "Processing Record 2 of Set 3 | dire dawa\n",
      "Processing Record 3 of Set 3 | kalyazin\n",
      "Processing Record 4 of Set 3 | itoman\n",
      "Processing Record 5 of Set 3 | airai\n",
      "Processing Record 6 of Set 3 | kodiak\n",
      "Processing Record 7 of Set 3 | tshikapa\n",
      "Processing Record 8 of Set 3 | thompson\n",
      "Processing Record 9 of Set 3 | bredasdorp\n",
      "Processing Record 10 of Set 3 | nuuk\n",
      "Processing Record 11 of Set 3 | meulaboh\n",
      "Processing Record 12 of Set 3 | salalah\n",
      "Processing Record 13 of Set 3 | bonthe\n",
      "Processing Record 14 of Set 3 | matara\n",
      "Processing Record 15 of Set 3 | mount gambier\n",
      "Processing Record 16 of Set 3 | baruun-urt\n",
      "Processing Record 17 of Set 3 | ornskoldsvik\n",
      "Processing Record 18 of Set 3 | port lincoln\n",
      "Processing Record 19 of Set 3 | barentsburg\n",
      "City not found. Skipping...\n",
      "Processing Record 20 of Set 3 | falam\n",
      "Processing Record 21 of Set 3 | provideniya\n",
      "Processing Record 22 of Set 3 | nhulunbuy\n",
      "Processing Record 23 of Set 3 | jam sahib\n",
      "Processing Record 24 of Set 3 | alofi\n",
      "Processing Record 25 of Set 3 | chuy\n",
      "Processing Record 26 of Set 3 | charters towers\n",
      "Processing Record 27 of Set 3 | saint george\n",
      "Processing Record 28 of Set 3 | ushuaia\n",
      "Processing Record 29 of Set 3 | bengkulu\n",
      "Processing Record 30 of Set 3 | bethel\n",
      "Processing Record 31 of Set 3 | mahebourg\n",
      "Processing Record 32 of Set 3 | burica\n",
      "City not found. Skipping...\n",
      "Processing Record 33 of Set 3 | abong mbang\n",
      "Processing Record 34 of Set 3 | ostrovnoy\n",
      "Processing Record 35 of Set 3 | vila franca do campo\n",
      "Processing Record 36 of Set 3 | grand river south east\n",
      "City not found. Skipping...\n",
      "Processing Record 37 of Set 3 | pozoblanco\n",
      "Processing Record 38 of Set 3 | shambu\n",
      "Processing Record 39 of Set 3 | mehamn\n",
      "Processing Record 40 of Set 3 | tilichiki\n",
      "Processing Record 41 of Set 3 | pevek\n",
      "Processing Record 42 of Set 3 | pangkalanbuun\n",
      "Processing Record 43 of Set 3 | mitu\n",
      "Processing Record 44 of Set 3 | ambilobe\n",
      "Processing Record 45 of Set 3 | vanavara\n",
      "Processing Record 46 of Set 3 | ahipara\n",
      "Processing Record 47 of Set 3 | chumikan\n",
      "Processing Record 48 of Set 3 | kaspiysk\n",
      "Processing Record 49 of Set 3 | touros\n",
      "Processing Record 0 of Set 4 | iqaluit\n",
      "Processing Record 1 of Set 4 | vardo\n",
      "Processing Record 2 of Set 4 | honiara\n",
      "Processing Record 3 of Set 4 | dalby\n",
      "Processing Record 4 of Set 4 | tumannyy\n",
      "City not found. Skipping...\n",
      "Processing Record 5 of Set 4 | sentyabrskiy\n",
      "City not found. Skipping...\n",
      "Processing Record 6 of Set 4 | nouadhibou\n",
      "Processing Record 7 of Set 4 | cabo san lucas\n",
      "Processing Record 8 of Set 4 | ixtapa\n",
      "Processing Record 9 of Set 4 | soyo\n",
      "Processing Record 10 of Set 4 | flin flon\n",
      "Processing Record 11 of Set 4 | tawang\n",
      "Processing Record 12 of Set 4 | cidreira\n",
      "Processing Record 13 of Set 4 | wynyard\n",
      "Processing Record 14 of Set 4 | rafaela\n",
      "Processing Record 15 of Set 4 | la ronge\n",
      "Processing Record 16 of Set 4 | new norfolk\n",
      "Processing Record 17 of Set 4 | lasa\n",
      "Processing Record 18 of Set 4 | verkhnevilyuysk\n",
      "Processing Record 19 of Set 4 | harqalah\n",
      "Processing Record 20 of Set 4 | sao jose da coroa grande\n",
      "Processing Record 21 of Set 4 | sobolevo\n",
      "Processing Record 22 of Set 4 | kiama\n",
      "Processing Record 23 of Set 4 | durant\n",
      "Processing Record 24 of Set 4 | bahar\n",
      "Processing Record 25 of Set 4 | puerto leguizamo\n",
      "Processing Record 26 of Set 4 | flinders\n",
      "Processing Record 27 of Set 4 | broken hill\n",
      "Processing Record 28 of Set 4 | asau\n",
      "Processing Record 29 of Set 4 | ribeira grande\n",
      "Processing Record 30 of Set 4 | qaanaaq\n",
      "Processing Record 31 of Set 4 | lompoc\n",
      "Processing Record 32 of Set 4 | plettenberg bay\n",
      "Processing Record 33 of Set 4 | norman wells\n",
      "Processing Record 34 of Set 4 | shingu\n"
     ]
    },
    {
     "name": "stdout",
     "output_type": "stream",
     "text": [
      "Processing Record 35 of Set 4 | amritsar\n",
      "Processing Record 36 of Set 4 | nurota\n",
      "Processing Record 37 of Set 4 | sulangan\n",
      "Processing Record 38 of Set 4 | kumbo\n",
      "Processing Record 39 of Set 4 | nampa\n",
      "Processing Record 40 of Set 4 | ahumada\n",
      "City not found. Skipping...\n",
      "Processing Record 41 of Set 4 | marzuq\n",
      "Processing Record 42 of Set 4 | antsohihy\n",
      "Processing Record 43 of Set 4 | sungaipenuh\n",
      "Processing Record 44 of Set 4 | ponta do sol\n",
      "Processing Record 45 of Set 4 | muravlenko\n",
      "Processing Record 46 of Set 4 | hailar\n",
      "Processing Record 47 of Set 4 | tasiilaq\n",
      "Processing Record 48 of Set 4 | arraial do cabo\n",
      "Processing Record 49 of Set 4 | katangli\n",
      "Processing Record 0 of Set 5 | ilulissat\n",
      "Processing Record 1 of Set 5 | yellowknife\n",
      "Processing Record 2 of Set 5 | college\n",
      "Processing Record 3 of Set 5 | saint-philippe\n",
      "Processing Record 4 of Set 5 | bontang\n",
      "Processing Record 5 of Set 5 | hofn\n",
      "Processing Record 6 of Set 5 | gwadar\n",
      "Processing Record 7 of Set 5 | pochutla\n",
      "Processing Record 8 of Set 5 | sitka\n",
      "Processing Record 9 of Set 5 | meghraj\n",
      "Processing Record 10 of Set 5 | roald\n",
      "Processing Record 11 of Set 5 | mayo\n",
      "Processing Record 12 of Set 5 | mikhaylovka\n",
      "Processing Record 13 of Set 5 | sinazongwe\n",
      "Processing Record 14 of Set 5 | barrow\n",
      "Processing Record 15 of Set 5 | kudahuvadhoo\n",
      "Processing Record 16 of Set 5 | camp verde\n",
      "Processing Record 17 of Set 5 | samusu\n",
      "City not found. Skipping...\n",
      "Processing Record 18 of Set 5 | tessalit\n",
      "Processing Record 19 of Set 5 | tiksi\n",
      "Processing Record 20 of Set 5 | torbat-e jam\n",
      "Processing Record 21 of Set 5 | pisco\n",
      "Processing Record 22 of Set 5 | heihe\n",
      "Processing Record 23 of Set 5 | townsville\n",
      "Processing Record 24 of Set 5 | bairiki\n",
      "Processing Record 25 of Set 5 | duvan\n",
      "Processing Record 26 of Set 5 | sur\n",
      "Processing Record 27 of Set 5 | ulagan\n",
      "Processing Record 28 of Set 5 | margate\n",
      "Processing Record 29 of Set 5 | el cope\n",
      "Processing Record 30 of Set 5 | zhangye\n",
      "Processing Record 31 of Set 5 | lusambo\n",
      "Processing Record 32 of Set 5 | praya\n",
      "Processing Record 33 of Set 5 | stornoway\n",
      "Processing Record 34 of Set 5 | redwater\n",
      "Processing Record 35 of Set 5 | tuatapere\n",
      "Processing Record 36 of Set 5 | nyurba\n",
      "Processing Record 37 of Set 5 | altay\n",
      "Processing Record 38 of Set 5 | san felipe\n",
      "Processing Record 39 of Set 5 | morondava\n",
      "Processing Record 40 of Set 5 | terney\n",
      "Processing Record 41 of Set 5 | churapcha\n",
      "Processing Record 42 of Set 5 | biak\n",
      "Processing Record 43 of Set 5 | dong hoi\n",
      "Processing Record 44 of Set 5 | mandan\n",
      "Processing Record 45 of Set 5 | san patricio\n",
      "Processing Record 46 of Set 5 | port alfred\n",
      "Processing Record 47 of Set 5 | pokrovsk\n",
      "Processing Record 48 of Set 5 | peniche\n",
      "Processing Record 49 of Set 5 | pitimbu\n",
      "Processing Record 0 of Set 6 | tautira\n",
      "Processing Record 1 of Set 6 | zyryanka\n",
      "Processing Record 2 of Set 6 | soligalich\n",
      "Processing Record 3 of Set 6 | yunhe\n",
      "Processing Record 4 of Set 6 | camacha\n",
      "Processing Record 5 of Set 6 | wanaka\n",
      "Processing Record 6 of Set 6 | alice springs\n",
      "Processing Record 7 of Set 6 | adrar\n",
      "Processing Record 8 of Set 6 | talnakh\n",
      "Processing Record 9 of Set 6 | beeville\n",
      "Processing Record 10 of Set 6 | amurzet\n",
      "Processing Record 11 of Set 6 | warqla\n",
      "City not found. Skipping...\n",
      "Processing Record 12 of Set 6 | payo\n",
      "Processing Record 13 of Set 6 | dera ghazi khan\n",
      "Processing Record 14 of Set 6 | amderma\n",
      "City not found. Skipping...\n",
      "Processing Record 15 of Set 6 | satitoa\n",
      "City not found. Skipping...\n",
      "Processing Record 16 of Set 6 | coquimbo\n",
      "Processing Record 17 of Set 6 | orodara\n",
      "Processing Record 18 of Set 6 | san quintin\n",
      "Processing Record 19 of Set 6 | georgetown\n",
      "Processing Record 20 of Set 6 | faanui\n",
      "Processing Record 21 of Set 6 | quesnel\n",
      "Processing Record 22 of Set 6 | wilmington\n",
      "Processing Record 23 of Set 6 | presidencia roque saenz pena\n",
      "Processing Record 24 of Set 6 | zambezi\n",
      "Processing Record 25 of Set 6 | caravelas\n",
      "Processing Record 26 of Set 6 | badiraguato\n",
      "Processing Record 27 of Set 6 | iracoubo\n",
      "Processing Record 28 of Set 6 | asyut\n",
      "Processing Record 29 of Set 6 | farafangana\n",
      "Processing Record 30 of Set 6 | tosya\n",
      "Processing Record 31 of Set 6 | dicabisagan\n",
      "Processing Record 32 of Set 6 | hualmay\n",
      "Processing Record 33 of Set 6 | longyearbyen\n",
      "Processing Record 34 of Set 6 | sisophon\n",
      "Processing Record 35 of Set 6 | katsuura\n",
      "Processing Record 36 of Set 6 | noyabrsk\n",
      "Processing Record 37 of Set 6 | vranje\n",
      "Processing Record 38 of Set 6 | pacific grove\n",
      "Processing Record 39 of Set 6 | poum\n",
      "Processing Record 40 of Set 6 | bassano\n",
      "Processing Record 41 of Set 6 | hare bay\n",
      "Processing Record 42 of Set 6 | gotsu\n",
      "Processing Record 43 of Set 6 | boyolangu\n",
      "Processing Record 44 of Set 6 | kidal\n",
      "Processing Record 45 of Set 6 | eskil\n",
      "Processing Record 46 of Set 6 | dwarka\n",
      "Processing Record 47 of Set 6 | mount isa\n",
      "Processing Record 48 of Set 6 | anage\n",
      "Processing Record 49 of Set 6 | svetlogorsk\n",
      "Processing Record 0 of Set 7 | iquique\n",
      "Processing Record 1 of Set 7 | zhigansk\n",
      "Processing Record 2 of Set 7 | payyannur\n",
      "Processing Record 3 of Set 7 | tiarei\n",
      "Processing Record 4 of Set 7 | felidhoo\n",
      "City not found. Skipping...\n",
      "Processing Record 5 of Set 7 | inderborskiy\n",
      "City not found. Skipping...\n",
      "Processing Record 6 of Set 7 | turtas\n",
      "Processing Record 7 of Set 7 | takab\n",
      "Processing Record 8 of Set 7 | san isidro\n",
      "Processing Record 9 of Set 7 | rumford\n",
      "Processing Record 10 of Set 7 | tyrma\n",
      "Processing Record 11 of Set 7 | tsihombe\n",
      "City not found. Skipping...\n",
      "Processing Record 12 of Set 7 | kadykchan\n",
      "City not found. Skipping...\n",
      "Processing Record 13 of Set 7 | acapulco\n",
      "Processing Record 14 of Set 7 | fez\n",
      "Processing Record 15 of Set 7 | teya\n",
      "Processing Record 16 of Set 7 | san rafael\n",
      "Processing Record 17 of Set 7 | san policarpo\n",
      "Processing Record 18 of Set 7 | lensk\n",
      "Processing Record 19 of Set 7 | shawnee\n",
      "Processing Record 20 of Set 7 | isangel\n",
      "Processing Record 21 of Set 7 | nizhneyansk\n",
      "City not found. Skipping...\n",
      "Processing Record 22 of Set 7 | pringsewu\n",
      "Processing Record 23 of Set 7 | vila velha\n",
      "Processing Record 24 of Set 7 | ketchikan\n",
      "Processing Record 25 of Set 7 | orlik\n",
      "Processing Record 26 of Set 7 | coihaique\n",
      "Processing Record 27 of Set 7 | porto santo\n",
      "Processing Record 28 of Set 7 | necochea\n",
      "Processing Record 29 of Set 7 | rundu\n",
      "Processing Record 30 of Set 7 | tabiauea\n",
      "City not found. Skipping...\n",
      "Processing Record 31 of Set 7 | kahului\n",
      "Processing Record 32 of Set 7 | mugla\n",
      "Processing Record 33 of Set 7 | maxixe\n",
      "Processing Record 34 of Set 7 | poninka\n",
      "Processing Record 35 of Set 7 | channel-port aux basques\n",
      "Processing Record 36 of Set 7 | camden\n",
      "Processing Record 37 of Set 7 | zhuanghe\n",
      "Processing Record 38 of Set 7 | zwedru\n",
      "Processing Record 39 of Set 7 | banjar\n",
      "Processing Record 40 of Set 7 | bambous virieux\n",
      "Processing Record 41 of Set 7 | amapa\n",
      "Processing Record 42 of Set 7 | bima\n",
      "Processing Record 43 of Set 7 | victoria\n",
      "Processing Record 44 of Set 7 | urumqi\n",
      "Processing Record 45 of Set 7 | belen\n",
      "Processing Record 46 of Set 7 | vrangel\n",
      "Processing Record 47 of Set 7 | spencer\n",
      "Processing Record 48 of Set 7 | shache\n",
      "Processing Record 49 of Set 7 | cuamba\n",
      "Processing Record 0 of Set 8 | port hedland\n",
      "Processing Record 1 of Set 8 | dyersburg\n",
      "Processing Record 2 of Set 8 | sawtell\n",
      "Processing Record 3 of Set 8 | coari\n",
      "Processing Record 4 of Set 8 | wukari\n",
      "Processing Record 5 of Set 8 | englewood\n",
      "Processing Record 6 of Set 8 | udachnyy\n",
      "Processing Record 7 of Set 8 | karaul\n",
      "City not found. Skipping...\n",
      "Processing Record 8 of Set 8 | villagarzon\n",
      "Processing Record 9 of Set 8 | aksarka\n",
      "Processing Record 10 of Set 8 | saleaula\n",
      "City not found. Skipping...\n",
      "Processing Record 11 of Set 8 | imeni poliny osipenko\n",
      "Processing Record 12 of Set 8 | waddan\n",
      "Processing Record 13 of Set 8 | green valley\n",
      "Processing Record 14 of Set 8 | northam\n",
      "Processing Record 15 of Set 8 | kulhudhuffushi\n",
      "Processing Record 16 of Set 8 | le port\n",
      "Processing Record 17 of Set 8 | yanchukan\n",
      "City not found. Skipping...\n",
      "Processing Record 18 of Set 8 | aleksandrovka\n",
      "Processing Record 19 of Set 8 | lagoa\n",
      "Processing Record 20 of Set 8 | santa cruz\n",
      "Processing Record 21 of Set 8 | belaya gora\n",
      "Processing Record 22 of Set 8 | souillac\n",
      "Processing Record 23 of Set 8 | umm durman\n",
      "City not found. Skipping...\n",
      "Processing Record 24 of Set 8 | nha trang\n",
      "Processing Record 25 of Set 8 | yarada\n"
     ]
    },
    {
     "name": "stdout",
     "output_type": "stream",
     "text": [
      "Processing Record 26 of Set 8 | nelson bay\n",
      "Processing Record 27 of Set 8 | mithi\n",
      "Processing Record 28 of Set 8 | hurghada\n",
      "Processing Record 29 of Set 8 | sayaxche\n",
      "Processing Record 30 of Set 8 | constitucion\n",
      "Processing Record 31 of Set 8 | umm kaddadah\n",
      "Processing Record 32 of Set 8 | virginia beach\n",
      "Processing Record 33 of Set 8 | cukai\n",
      "Processing Record 34 of Set 8 | blackwater\n",
      "Processing Record 35 of Set 8 | kamen-rybolov\n",
      "Processing Record 36 of Set 8 | epe\n",
      "Processing Record 37 of Set 8 | puerto escondido\n",
      "Processing Record 38 of Set 8 | khatanga\n",
      "Processing Record 39 of Set 8 | aripuana\n",
      "Processing Record 40 of Set 8 | mutis\n",
      "Processing Record 41 of Set 8 | kununurra\n",
      "Processing Record 42 of Set 8 | salinopolis\n",
      "Processing Record 43 of Set 8 | bequimao\n",
      "Processing Record 44 of Set 8 | grand gaube\n",
      "Processing Record 45 of Set 8 | norton shores\n",
      "Processing Record 46 of Set 8 | gigmoto\n",
      "Processing Record 47 of Set 8 | huambo\n",
      "Processing Record 48 of Set 8 | carlisle\n",
      "Processing Record 49 of Set 8 | oktyabrskiy\n",
      "Processing Record 0 of Set 9 | lebu\n",
      "Processing Record 1 of Set 9 | belmonte\n",
      "Processing Record 2 of Set 9 | marawi\n",
      "Processing Record 3 of Set 9 | yakeshi\n",
      "Processing Record 4 of Set 9 | manokwari\n",
      "Processing Record 5 of Set 9 | mazamari\n",
      "Processing Record 6 of Set 9 | qui nhon\n",
      "Processing Record 7 of Set 9 | kuusamo\n",
      "Processing Record 8 of Set 9 | rorvik\n",
      "Processing Record 9 of Set 9 | macaboboni\n",
      "City not found. Skipping...\n",
      "Processing Record 10 of Set 9 | gogrial\n",
      "Processing Record 11 of Set 9 | lorengau\n",
      "Processing Record 12 of Set 9 | terrace\n",
      "Processing Record 13 of Set 9 | tecoanapa\n",
      "Processing Record 14 of Set 9 | bafra\n",
      "Processing Record 15 of Set 9 | pritzwalk\n",
      "Processing Record 16 of Set 9 | port blair\n",
      "Processing Record 17 of Set 9 | san luis de palenque\n",
      "Processing Record 18 of Set 9 | bonfim\n",
      "Processing Record 19 of Set 9 | walvis bay\n",
      "Processing Record 20 of Set 9 | kalomo\n",
      "City not found. Skipping...\n",
      "Processing Record 21 of Set 9 | ilmajoki\n",
      "Processing Record 22 of Set 9 | tutoia\n",
      "Processing Record 23 of Set 9 | klaksvik\n",
      "Processing Record 24 of Set 9 | lugoba\n",
      "Processing Record 25 of Set 9 | atar\n",
      "Processing Record 26 of Set 9 | fergus falls\n",
      "Processing Record 27 of Set 9 | energeticheskiy\n",
      "Processing Record 28 of Set 9 | sarkand\n",
      "Processing Record 29 of Set 9 | tura\n",
      "Processing Record 30 of Set 9 | kirakira\n",
      "Processing Record 31 of Set 9 | bac lieu\n",
      "Processing Record 32 of Set 9 | tabukiniberu\n",
      "City not found. Skipping...\n",
      "Processing Record 33 of Set 9 | sambava\n",
      "Processing Record 34 of Set 9 | te anau\n",
      "Processing Record 35 of Set 9 | alyangula\n",
      "Processing Record 36 of Set 9 | bereda\n",
      "Processing Record 37 of Set 9 | marsa matruh\n",
      "Processing Record 38 of Set 9 | portales\n",
      "Processing Record 39 of Set 9 | rawson\n",
      "Processing Record 40 of Set 9 | leshukonskoye\n",
      "Processing Record 41 of Set 9 | porto novo\n",
      "Processing Record 42 of Set 9 | cairns\n",
      "Processing Record 43 of Set 9 | sanford\n",
      "Processing Record 44 of Set 9 | kaya\n",
      "Processing Record 45 of Set 9 | bargal\n",
      "City not found. Skipping...\n",
      "Processing Record 46 of Set 9 | simpang\n",
      "Processing Record 47 of Set 9 | bulolo\n",
      "Processing Record 48 of Set 9 | katsiveli\n",
      "City not found. Skipping...\n",
      "Processing Record 49 of Set 9 | opelousas\n",
      "Processing Record 0 of Set 10 | quzhou\n",
      "Processing Record 1 of Set 10 | sevierville\n",
      "Processing Record 2 of Set 10 | ramgarh\n",
      "Processing Record 3 of Set 10 | thai binh\n",
      "Processing Record 4 of Set 10 | hihifo\n",
      "City not found. Skipping...\n",
      "Processing Record 5 of Set 10 | hamilton\n",
      "Processing Record 6 of Set 10 | elko\n",
      "Processing Record 7 of Set 10 | trinidad\n",
      "Processing Record 8 of Set 10 | jacareacanga\n",
      "Processing Record 9 of Set 10 | bushenyi\n",
      "Processing Record 10 of Set 10 | leningradskiy\n",
      "Processing Record 11 of Set 10 | rodrigues alves\n",
      "Processing Record 12 of Set 10 | namibe\n",
      "Processing Record 13 of Set 10 | fershampenuaz\n",
      "Processing Record 14 of Set 10 | muskegon\n",
      "Processing Record 15 of Set 10 | birjand\n",
      "Processing Record 16 of Set 10 | manta\n",
      "Processing Record 17 of Set 10 | huangmei\n",
      "Processing Record 18 of Set 10 | evreux\n",
      "Processing Record 19 of Set 10 | tazovskiy\n",
      "Processing Record 20 of Set 10 | mildura\n",
      "Processing Record 21 of Set 10 | pemangkat\n",
      "Processing Record 22 of Set 10 | beyneu\n",
      "Processing Record 23 of Set 10 | zhetybay\n",
      "City not found. Skipping...\n",
      "Processing Record 24 of Set 10 | alugan\n",
      "Processing Record 25 of Set 10 | sao joao da barra\n",
      "Processing Record 26 of Set 10 | nakhon phanom\n",
      "Processing Record 27 of Set 10 | sala\n",
      "Processing Record 28 of Set 10 | comodoro rivadavia\n",
      "Processing Record 29 of Set 10 | marrakesh\n",
      "Processing Record 30 of Set 10 | hasaki\n",
      "Processing Record 31 of Set 10 | tarko-sale\n",
      "Processing Record 32 of Set 10 | uwayl\n",
      "City not found. Skipping...\n",
      "Processing Record 33 of Set 10 | sattahip\n",
      "Processing Record 34 of Set 10 | bobon\n",
      "Processing Record 35 of Set 10 | kodinsk\n",
      "Processing Record 36 of Set 10 | aksu\n",
      "Processing Record 37 of Set 10 | fort-shevchenko\n",
      "Processing Record 38 of Set 10 | bathsheba\n",
      "Processing Record 39 of Set 10 | olafsvik\n",
      "Processing Record 40 of Set 10 | cloquet\n",
      "Processing Record 41 of Set 10 | breytovo\n",
      "Processing Record 42 of Set 10 | abu samrah\n",
      "Processing Record 43 of Set 10 | bandarbeyla\n",
      "Processing Record 44 of Set 10 | olga\n",
      "Processing Record 45 of Set 10 | were ilu\n",
      "Processing Record 46 of Set 10 | naduvattam\n",
      "Processing Record 47 of Set 10 | taksimo\n",
      "Processing Record 48 of Set 10 | magadi\n",
      "Processing Record 49 of Set 10 | khandyga\n",
      "Processing Record 0 of Set 11 | bonavista\n",
      "Processing Record 1 of Set 11 | fort collins\n",
      "Processing Record 2 of Set 11 | afgoye\n",
      "City not found. Skipping...\n",
      "Processing Record 3 of Set 11 | thunder bay\n",
      "Processing Record 4 of Set 11 | mackay\n",
      "Processing Record 5 of Set 11 | puerto baquerizo moreno\n",
      "Processing Record 6 of Set 11 | port macquarie\n",
      "Processing Record 7 of Set 11 | artyk\n",
      "City not found. Skipping...\n",
      "Processing Record 8 of Set 11 | kerteh\n",
      "City not found. Skipping...\n",
      "Processing Record 9 of Set 11 | port augusta\n",
      "Processing Record 10 of Set 11 | shahrud\n",
      "Processing Record 11 of Set 11 | garowe\n",
      "Processing Record 12 of Set 11 | halalo\n",
      "City not found. Skipping...\n",
      "Processing Record 13 of Set 11 | mbanza-ngungu\n",
      "Processing Record 14 of Set 11 | moyamba\n",
      "Processing Record 15 of Set 11 | xanlar\n",
      "Processing Record 16 of Set 11 | kholtoson\n",
      "Processing Record 17 of Set 11 | tsentralnyy\n",
      "City not found. Skipping...\n",
      "Processing Record 18 of Set 11 | puri\n",
      "Processing Record 19 of Set 11 | sitrah\n",
      "Processing Record 20 of Set 11 | bulgan\n",
      "Processing Record 21 of Set 11 | grootfontein\n",
      "Processing Record 22 of Set 11 | rayong\n",
      "Processing Record 23 of Set 11 | sorland\n",
      "Processing Record 24 of Set 11 | yerbogachen\n",
      "Processing Record 25 of Set 11 | berlevag\n",
      "Processing Record 26 of Set 11 | san vicente\n",
      "Processing Record 27 of Set 11 | la asuncion\n",
      "Processing Record 28 of Set 11 | balabac\n",
      "Processing Record 29 of Set 11 | saurimo\n",
      "Processing Record 30 of Set 11 | svetlyy\n",
      "Processing Record 31 of Set 11 | cap malheureux\n",
      "Processing Record 32 of Set 11 | omboue\n",
      "Processing Record 33 of Set 11 | gamba\n",
      "Processing Record 34 of Set 11 | kerema\n",
      "Processing Record 35 of Set 11 | luang prabang\n",
      "Processing Record 36 of Set 11 | najran\n",
      "Processing Record 37 of Set 11 | ambon\n",
      "Processing Record 38 of Set 11 | teguldet\n",
      "Processing Record 39 of Set 11 | kyzyl\n",
      "Processing Record 40 of Set 11 | antofagasta\n",
      "Processing Record 41 of Set 11 | port hawkesbury\n",
      "Processing Record 42 of Set 11 | oltedal\n",
      "Processing Record 43 of Set 11 | krasnaya zarya\n",
      "Processing Record 44 of Set 11 | khonuu\n",
      "City not found. Skipping...\n",
      "Processing Record 45 of Set 11 | leh\n",
      "Processing Record 46 of Set 11 | nagato\n",
      "Processing Record 47 of Set 11 | mizan teferi\n",
      "Processing Record 48 of Set 11 | djibo\n",
      "Processing Record 49 of Set 11 | yuscaran\n",
      "Processing Record 0 of Set 12 | malinovoye ozero\n",
      "Processing Record 1 of Set 12 | lazaro cardenas\n",
      "Processing Record 2 of Set 12 | yar-sale\n",
      "Processing Record 3 of Set 12 | duncan\n",
      "Processing Record 4 of Set 12 | miandrivazo\n",
      "Processing Record 5 of Set 12 | bundaberg\n",
      "Processing Record 6 of Set 12 | kokoda\n",
      "Processing Record 7 of Set 12 | coueron\n",
      "Processing Record 8 of Set 12 | jerantut\n",
      "Processing Record 9 of Set 12 | hobyo\n",
      "Processing Record 10 of Set 12 | emba\n",
      "Processing Record 11 of Set 12 | mormugao\n",
      "Processing Record 12 of Set 12 | utrera\n"
     ]
    },
    {
     "name": "stdout",
     "output_type": "stream",
     "text": [
      "Processing Record 13 of Set 12 | bijie\n",
      "Processing Record 14 of Set 12 | maloy\n",
      "Processing Record 15 of Set 12 | zachary\n",
      "Processing Record 16 of Set 12 | high level\n",
      "Processing Record 17 of Set 12 | severobaykalsk\n",
      "Processing Record 18 of Set 12 | challans\n",
      "Processing Record 19 of Set 12 | cayenne\n",
      "Processing Record 20 of Set 12 | kamaishi\n",
      "Processing Record 21 of Set 12 | atbasar\n",
      "Processing Record 22 of Set 12 | hay river\n",
      "Processing Record 23 of Set 12 | alta floresta\n",
      "Processing Record 24 of Set 12 | ajdabiya\n",
      "Processing Record 25 of Set 12 | fortuna\n",
      "Processing Record 26 of Set 12 | rungata\n",
      "City not found. Skipping...\n",
      "Processing Record 27 of Set 12 | hitachi\n",
      "Processing Record 28 of Set 12 | sept-iles\n",
      "Processing Record 29 of Set 12 | harper\n",
      "Processing Record 30 of Set 12 | panguna\n",
      "Processing Record 31 of Set 12 | marystown\n",
      "Processing Record 32 of Set 12 | valente\n",
      "Processing Record 33 of Set 12 | ust-ishim\n",
      "Processing Record 34 of Set 12 | dauphin\n",
      "Processing Record 35 of Set 12 | zacatepec\n",
      "Processing Record 36 of Set 12 | kilindoni\n",
      "Processing Record 37 of Set 12 | srednekolymsk\n",
      "Processing Record 38 of Set 12 | los llanos de aridane\n",
      "Processing Record 39 of Set 12 | maceio\n",
      "-----------------------------\n",
      "Data Retrieval Complete      \n",
      "-----------------------------\n"
     ]
    }
   ],
   "source": [
    "# Set the API base URL\n",
    "url = \"http://api.openweathermap.org/data/2.5/weather?\"\n",
    "units = \"metric\" \n",
    "api_keys = weather_api_key\n",
    "appid = api_keys\n",
    "settings = {\"units\": \"metric\", \"appid\": api_keys}\n",
    "\n",
    "# Define an empty list to fetch the weather data for each city\n",
    "city_data = []\n",
    "\n",
    "# Print to logger\n",
    "print(\"Beginning Data Retrieval     \")\n",
    "print(\"-----------------------------\")\n",
    "\n",
    "# Create counters\n",
    "record_count = 1\n",
    "set_count = 1\n",
    "\n",
    "# Loop through all the cities in our list to fetch weather data\n",
    "for i, city in enumerate(cities):\n",
    "        \n",
    "    # Group cities in sets of 50 for logging purposes\n",
    "    if (i % 50 == 0 and i >= 50):\n",
    "        set_count += 1\n",
    "        record_count = 0\n",
    "\n",
    "    # Create endpoint URL with each city\n",
    "    city_url = f\"{url}appid={api_keys}&units={units}&q=\"\n",
    "    \n",
    "    # Log the url, record, and set numbers\n",
    "    print(\"Processing Record %s of Set %s | %s\" % (record_count, set_count, city))\n",
    "\n",
    "    # Add 1 to the record count\n",
    "    record_count += 1\n",
    "\n",
    "    # Run an API request for each of the cities\n",
    "    try:\n",
    "        # Parse the JSON and retrieve data\n",
    "        city_weather = requests.get(city_url + city).json()\n",
    "\n",
    "        # Parse out latitude, longitude, max temp, humidity, cloudiness, wind speed, country, and date\n",
    "        city_latitute = city_weather[\"coord\"][\"lat\"]\n",
    "        city_longitude = city_weather[\"coord\"][\"lon\"]\n",
    "        city_max_temperature = city_weather[\"main\"][\"temp_max\"]\n",
    "        city_humidity = city_weather[\"main\"][\"humidity\"]\n",
    "        city_clouds = city_weather[\"clouds\"][\"all\"]\n",
    "        city_wind = city_weather[\"wind\"][\"speed\"]\n",
    "        city_country = city_weather[\"sys\"][\"country\"]\n",
    "        city_date = city_weather[\"dt\"]\n",
    "\n",
    "        # Append the City information into city_data list\n",
    "        city_data.append({\"City\": city, \n",
    "                          \"Lat\": city_latitute, \n",
    "                          \"Lng\": city_longitude, \n",
    "                          \"Max Temp\": city_max_temperature,\n",
    "                          \"Humidity\": city_humidity,\n",
    "                          \"Cloudiness\": city_clouds,\n",
    "                          \"Wind Speed\": city_wind,\n",
    "                          \"Country\": city_country,\n",
    "                          \"Date\": city_date})\n",
    "\n",
    "    # If an error is experienced, skip the city\n",
    "    except:\n",
    "        print(\"City not found. Skipping...\")\n",
    "        pass\n",
    "              \n",
    "# Indicate that Data Loading is complete \n",
    "print(\"-----------------------------\")\n",
    "print(\"Data Retrieval Complete      \")\n",
    "print(\"-----------------------------\")"
   ]
  },
  {
   "cell_type": "code",
   "execution_count": 5,
   "metadata": {},
   "outputs": [
    {
     "data": {
      "text/plain": [
       "City          543\n",
       "Lat           543\n",
       "Lng           543\n",
       "Max Temp      543\n",
       "Humidity      543\n",
       "Cloudiness    543\n",
       "Wind Speed    543\n",
       "Country       543\n",
       "Date          543\n",
       "dtype: int64"
      ]
     },
     "execution_count": 5,
     "metadata": {},
     "output_type": "execute_result"
    }
   ],
   "source": [
    "# Convert the cities weather data into a Pandas DataFrame\n",
    "city_data_df = pd.DataFrame(city_data)\n",
    "\n",
    "# Show Record Count\n",
    "city_data_df.count()"
   ]
  },
  {
   "cell_type": "code",
   "execution_count": 6,
   "metadata": {},
   "outputs": [
    {
     "data": {
      "text/html": [
       "<div>\n",
       "<style scoped>\n",
       "    .dataframe tbody tr th:only-of-type {\n",
       "        vertical-align: middle;\n",
       "    }\n",
       "\n",
       "    .dataframe tbody tr th {\n",
       "        vertical-align: top;\n",
       "    }\n",
       "\n",
       "    .dataframe thead th {\n",
       "        text-align: right;\n",
       "    }\n",
       "</style>\n",
       "<table border=\"1\" class=\"dataframe\">\n",
       "  <thead>\n",
       "    <tr style=\"text-align: right;\">\n",
       "      <th></th>\n",
       "      <th>City</th>\n",
       "      <th>Lat</th>\n",
       "      <th>Lng</th>\n",
       "      <th>Max Temp</th>\n",
       "      <th>Humidity</th>\n",
       "      <th>Cloudiness</th>\n",
       "      <th>Wind Speed</th>\n",
       "      <th>Country</th>\n",
       "      <th>Date</th>\n",
       "    </tr>\n",
       "  </thead>\n",
       "  <tbody>\n",
       "    <tr>\n",
       "      <th>0</th>\n",
       "      <td>avarua</td>\n",
       "      <td>-21.2078</td>\n",
       "      <td>-159.7750</td>\n",
       "      <td>22.03</td>\n",
       "      <td>83</td>\n",
       "      <td>75</td>\n",
       "      <td>6.69</td>\n",
       "      <td>CK</td>\n",
       "      <td>1667296547</td>\n",
       "    </tr>\n",
       "    <tr>\n",
       "      <th>1</th>\n",
       "      <td>meadow lake</td>\n",
       "      <td>34.8014</td>\n",
       "      <td>-106.5436</td>\n",
       "      <td>10.22</td>\n",
       "      <td>39</td>\n",
       "      <td>0</td>\n",
       "      <td>2.07</td>\n",
       "      <td>US</td>\n",
       "      <td>1667296548</td>\n",
       "    </tr>\n",
       "    <tr>\n",
       "      <th>2</th>\n",
       "      <td>paamiut</td>\n",
       "      <td>61.9940</td>\n",
       "      <td>-49.6678</td>\n",
       "      <td>-1.19</td>\n",
       "      <td>72</td>\n",
       "      <td>95</td>\n",
       "      <td>11.24</td>\n",
       "      <td>GL</td>\n",
       "      <td>1667296549</td>\n",
       "    </tr>\n",
       "    <tr>\n",
       "      <th>3</th>\n",
       "      <td>hithadhoo</td>\n",
       "      <td>-0.6000</td>\n",
       "      <td>73.0833</td>\n",
       "      <td>27.74</td>\n",
       "      <td>77</td>\n",
       "      <td>67</td>\n",
       "      <td>6.87</td>\n",
       "      <td>MV</td>\n",
       "      <td>1667296550</td>\n",
       "    </tr>\n",
       "    <tr>\n",
       "      <th>4</th>\n",
       "      <td>geraldton</td>\n",
       "      <td>-28.7667</td>\n",
       "      <td>114.6000</td>\n",
       "      <td>19.23</td>\n",
       "      <td>63</td>\n",
       "      <td>0</td>\n",
       "      <td>9.77</td>\n",
       "      <td>AU</td>\n",
       "      <td>1667296511</td>\n",
       "    </tr>\n",
       "  </tbody>\n",
       "</table>\n",
       "</div>"
      ],
      "text/plain": [
       "          City      Lat       Lng  Max Temp  Humidity  Cloudiness  Wind Speed  \\\n",
       "0       avarua -21.2078 -159.7750     22.03        83          75        6.69   \n",
       "1  meadow lake  34.8014 -106.5436     10.22        39           0        2.07   \n",
       "2      paamiut  61.9940  -49.6678     -1.19        72          95       11.24   \n",
       "3    hithadhoo  -0.6000   73.0833     27.74        77          67        6.87   \n",
       "4    geraldton -28.7667  114.6000     19.23        63           0        9.77   \n",
       "\n",
       "  Country        Date  \n",
       "0      CK  1667296547  \n",
       "1      US  1667296548  \n",
       "2      GL  1667296549  \n",
       "3      MV  1667296550  \n",
       "4      AU  1667296511  "
      ]
     },
     "execution_count": 6,
     "metadata": {},
     "output_type": "execute_result"
    }
   ],
   "source": [
    "# Display sample data\n",
    "city_data_df.head()"
   ]
  },
  {
   "cell_type": "code",
   "execution_count": 8,
   "metadata": {},
   "outputs": [],
   "source": [
    "# Export the City_Data into a csv\n",
    "city_data_df.to_csv(\"../output_data/cities.csv\", index_label=\"City_ID\")"
   ]
  },
  {
   "cell_type": "code",
   "execution_count": 10,
   "metadata": {},
   "outputs": [
    {
     "data": {
      "text/html": [
       "<div>\n",
       "<style scoped>\n",
       "    .dataframe tbody tr th:only-of-type {\n",
       "        vertical-align: middle;\n",
       "    }\n",
       "\n",
       "    .dataframe tbody tr th {\n",
       "        vertical-align: top;\n",
       "    }\n",
       "\n",
       "    .dataframe thead th {\n",
       "        text-align: right;\n",
       "    }\n",
       "</style>\n",
       "<table border=\"1\" class=\"dataframe\">\n",
       "  <thead>\n",
       "    <tr style=\"text-align: right;\">\n",
       "      <th></th>\n",
       "      <th>City</th>\n",
       "      <th>Lat</th>\n",
       "      <th>Lng</th>\n",
       "      <th>Max Temp</th>\n",
       "      <th>Humidity</th>\n",
       "      <th>Cloudiness</th>\n",
       "      <th>Wind Speed</th>\n",
       "      <th>Country</th>\n",
       "      <th>Date</th>\n",
       "    </tr>\n",
       "    <tr>\n",
       "      <th>City_ID</th>\n",
       "      <th></th>\n",
       "      <th></th>\n",
       "      <th></th>\n",
       "      <th></th>\n",
       "      <th></th>\n",
       "      <th></th>\n",
       "      <th></th>\n",
       "      <th></th>\n",
       "      <th></th>\n",
       "    </tr>\n",
       "  </thead>\n",
       "  <tbody>\n",
       "    <tr>\n",
       "      <th>0</th>\n",
       "      <td>avarua</td>\n",
       "      <td>-21.2078</td>\n",
       "      <td>-159.7750</td>\n",
       "      <td>22.03</td>\n",
       "      <td>83</td>\n",
       "      <td>75</td>\n",
       "      <td>6.69</td>\n",
       "      <td>CK</td>\n",
       "      <td>1667296547</td>\n",
       "    </tr>\n",
       "    <tr>\n",
       "      <th>1</th>\n",
       "      <td>meadow lake</td>\n",
       "      <td>34.8014</td>\n",
       "      <td>-106.5436</td>\n",
       "      <td>10.22</td>\n",
       "      <td>39</td>\n",
       "      <td>0</td>\n",
       "      <td>2.07</td>\n",
       "      <td>US</td>\n",
       "      <td>1667296548</td>\n",
       "    </tr>\n",
       "    <tr>\n",
       "      <th>2</th>\n",
       "      <td>paamiut</td>\n",
       "      <td>61.9940</td>\n",
       "      <td>-49.6678</td>\n",
       "      <td>-1.19</td>\n",
       "      <td>72</td>\n",
       "      <td>95</td>\n",
       "      <td>11.24</td>\n",
       "      <td>GL</td>\n",
       "      <td>1667296549</td>\n",
       "    </tr>\n",
       "    <tr>\n",
       "      <th>3</th>\n",
       "      <td>hithadhoo</td>\n",
       "      <td>-0.6000</td>\n",
       "      <td>73.0833</td>\n",
       "      <td>27.74</td>\n",
       "      <td>77</td>\n",
       "      <td>67</td>\n",
       "      <td>6.87</td>\n",
       "      <td>MV</td>\n",
       "      <td>1667296550</td>\n",
       "    </tr>\n",
       "    <tr>\n",
       "      <th>4</th>\n",
       "      <td>geraldton</td>\n",
       "      <td>-28.7667</td>\n",
       "      <td>114.6000</td>\n",
       "      <td>19.23</td>\n",
       "      <td>63</td>\n",
       "      <td>0</td>\n",
       "      <td>9.77</td>\n",
       "      <td>AU</td>\n",
       "      <td>1667296511</td>\n",
       "    </tr>\n",
       "  </tbody>\n",
       "</table>\n",
       "</div>"
      ],
      "text/plain": [
       "                City      Lat       Lng  Max Temp  Humidity  Cloudiness  \\\n",
       "City_ID                                                                   \n",
       "0             avarua -21.2078 -159.7750     22.03        83          75   \n",
       "1        meadow lake  34.8014 -106.5436     10.22        39           0   \n",
       "2            paamiut  61.9940  -49.6678     -1.19        72          95   \n",
       "3          hithadhoo  -0.6000   73.0833     27.74        77          67   \n",
       "4          geraldton -28.7667  114.6000     19.23        63           0   \n",
       "\n",
       "         Wind Speed Country        Date  \n",
       "City_ID                                  \n",
       "0              6.69      CK  1667296547  \n",
       "1              2.07      US  1667296548  \n",
       "2             11.24      GL  1667296549  \n",
       "3              6.87      MV  1667296550  \n",
       "4              9.77      AU  1667296511  "
      ]
     },
     "execution_count": 10,
     "metadata": {},
     "output_type": "execute_result"
    }
   ],
   "source": [
    "# Read saved data\n",
    "city_data_df = pd.read_csv(\"../output_data/cities.csv\", index_col=\"City_ID\")\n",
    "\n",
    "# Display sample data\n",
    "city_data_df.head()"
   ]
  },
  {
   "cell_type": "markdown",
   "metadata": {},
   "source": [
    "### Create the Scatter Plots Requested\n",
    "\n",
    "#### Latitude Vs. Temperature"
   ]
  },
  {
   "cell_type": "code",
   "execution_count": 16,
   "metadata": {
    "tags": []
   },
   "outputs": [
    {
     "data": {
      "image/png": "[encoded data removed]",
      "text/plain": [
       "<Figure size 432x288 with 1 Axes>"
      ]
     },
     "metadata": {
      "needs_background": "light"
     },
     "output_type": "display_data"
    }
   ],
   "source": [
    "# Build scatter plot for latitude vs. temperature\n",
    "plt.scatter(city_data_df[\"Lat\"], city_data_df[\"Max Temp\"], marker=\"o\", edgecolor='black')\n",
    "\n",
    "# Incorporate the other graph properties\n",
    "plt.title(\"City Latitude vs. Max Temperature (%s) \" % time.strftime(\"%d/%m/%Y\"))\n",
    "plt.ylabel(\"Max Temperature (C)\")\n",
    "plt.xlabel(\"Latitude\")\n",
    "plt.grid(True)\n",
    "\n",
    "# Save the figure\n",
    "plt.savefig(\"../output_data/Lat vs. Temp Fig1.png\")\n",
    "\n",
    "# Show plot\n",
    "plt.show()"
   ]
  },
  {
   "cell_type": "markdown",
   "metadata": {},
   "source": [
    "#### Latitude Vs. Humidity"
   ]
  },
  {
   "cell_type": "code",
   "execution_count": 18,
   "metadata": {},
   "outputs": [
    {
     "data": {
      "image/png": "[encoded data removed]",
      "text/plain": [
       "<Figure size 432x288 with 1 Axes>"
      ]
     },
     "metadata": {
      "needs_background": "light"
     },
     "output_type": "display_data"
    }
   ],
   "source": [
    "# Build the scatter plots for latitude vs. humidity\n",
    "plt.scatter(city_data_df[\"Lat\"], city_data_df[\"Humidity\"], marker=\"o\", edgecolor='black')\n",
    "\n",
    "\n",
    "# Incorporate the other graph properties\n",
    "plt.title(\"City Latitude vs. Humidity (%s) \" % time.strftime(\"%d/%m/%Y\"))\n",
    "plt.ylabel(\"Humidity (%)\")\n",
    "plt.xlabel(\"Latitude\")\n",
    "plt.grid(True)\n",
    "\n",
    "# Save the figure\n",
    "plt.savefig(\"../output_data/Lat vs. Hum Fig2.png\")\n",
    "\n",
    "# Show plot\n",
    "plt.show()"
   ]
  },
  {
   "cell_type": "markdown",
   "metadata": {},
   "source": [
    "#### Latitude Vs. Cloudiness"
   ]
  },
  {
   "cell_type": "code",
   "execution_count": 19,
   "metadata": {},
   "outputs": [
    {
     "data": {
      "image/png": "[encoded data removed]",
      "text/plain": [
       "<Figure size 432x288 with 1 Axes>"
      ]
     },
     "metadata": {
      "needs_background": "light"
     },
     "output_type": "display_data"
    }
   ],
   "source": [
    "# Build the scatter plots for latitude vs. cloudiness\n",
    "plt.scatter(city_data_df[\"Lat\"], city_data_df[\"Cloudiness\"], marker=\"o\", edgecolor='black')\n",
    "\n",
    "# Incorporate the other graph properties\n",
    "plt.title(\"City Latitude vs. Cloudiness (%s) \" % time.strftime(\"%d/%m/%Y\"))\n",
    "plt.ylabel(\"Cloudiness (%)\")\n",
    "plt.xlabel(\"Latitude\")\n",
    "plt.grid(True)\n",
    "\n",
    "# Save the figure\n",
    "plt.savefig(\"../output_data/Lat vs. Cloud Fig3.png\")\n",
    "\n",
    "# Show plot\n",
    "plt.show()"
   ]
  },
  {
   "cell_type": "markdown",
   "metadata": {},
   "source": [
    "#### Latitude vs. Wind Speed Plot"
   ]
  },
  {
   "cell_type": "code",
   "execution_count": 21,
   "metadata": {},
   "outputs": [
    {
     "data": {
      "image/png": "[encoded data removed]",
      "text/plain": [
       "<Figure size 432x288 with 1 Axes>"
      ]
     },
     "metadata": {
      "needs_background": "light"
     },
     "output_type": "display_data"
    }
   ],
   "source": [
    "# Build the scatter plots for latitude vs. wind speed\n",
    "plt.scatter(city_data_df[\"Lat\"], city_data_df[\"Wind Speed\"], marker=\"o\", edgecolor='black')\n",
    "\n",
    "\n",
    "# Incorporate the other graph properties\n",
    "plt.title(\"City Latitude vs. Wind Speed (%s) \" % time.strftime(\"%d/%m/%Y\"))\n",
    "plt.ylabel(\"Wind Speed (m/s)\")\n",
    "plt.xlabel(\"Latitude\")\n",
    "plt.grid(True)\n",
    "\n",
    "# Save the figure\n",
    "plt.savefig(\"../output_data/Lat vs. Wind Fig4.png\")\n",
    "\n",
    "# Show plot\n",
    "plt.show()"
   ]
  },
  {
   "cell_type": "markdown",
   "metadata": {},
   "source": [
    "---\n",
    "\n",
    "## Requirement 2: Compute Linear Regression for Each Relationship\n"
   ]
  },
  {
   "cell_type": "code",
   "execution_count": 23,
   "metadata": {},
   "outputs": [],
   "source": [
    "# Define a function to create Linear Regression plots\n",
    "def plot_linear_regression(x_values, y_values, title, text_coordinates):\n",
    "    \n",
    "    (slope, intercept, rvalue, pvalue, stderr) = linregress(x_values, y_values)\n",
    "    regress_values = x_values * slope + intercept\n",
    "    line_eq = \"y = \" + str(round(slope,2)) + \"x + \" + str(round(intercept,2))\n",
    "\n",
    "    # Plot the scatterplot \n",
    "    plt.scatter(x_values,y_values)\n",
    "    plt.plot(x_values,regress_values,\"r-\")\n",
    "    plt.annotate(line_eq,text_coordinates,fontsize=15,color=\"red\")\n",
    "    plt.xlabel('Latitude')\n",
    "    plt.ylabel(title)\n",
    "    print(f\"The r-value is: {rvalue**2}\")\n",
    "    plt.show()"
   ]
  },
  {
   "cell_type": "code",
   "execution_count": 24,
   "metadata": {},
   "outputs": [
    {
     "data": {
      "text/html": [
       "<div>\n",
       "<style scoped>\n",
       "    .dataframe tbody tr th:only-of-type {\n",
       "        vertical-align: middle;\n",
       "    }\n",
       "\n",
       "    .dataframe tbody tr th {\n",
       "        vertical-align: top;\n",
       "    }\n",
       "\n",
       "    .dataframe thead th {\n",
       "        text-align: right;\n",
       "    }\n",
       "</style>\n",
       "<table border=\"1\" class=\"dataframe\">\n",
       "  <thead>\n",
       "    <tr style=\"text-align: right;\">\n",
       "      <th></th>\n",
       "      <th>City</th>\n",
       "      <th>Lat</th>\n",
       "      <th>Lng</th>\n",
       "      <th>Max Temp</th>\n",
       "      <th>Humidity</th>\n",
       "      <th>Cloudiness</th>\n",
       "      <th>Wind Speed</th>\n",
       "      <th>Country</th>\n",
       "      <th>Date</th>\n",
       "    </tr>\n",
       "    <tr>\n",
       "      <th>City_ID</th>\n",
       "      <th></th>\n",
       "      <th></th>\n",
       "      <th></th>\n",
       "      <th></th>\n",
       "      <th></th>\n",
       "      <th></th>\n",
       "      <th></th>\n",
       "      <th></th>\n",
       "      <th></th>\n",
       "    </tr>\n",
       "  </thead>\n",
       "  <tbody>\n",
       "    <tr>\n",
       "      <th>1</th>\n",
       "      <td>meadow lake</td>\n",
       "      <td>34.8014</td>\n",
       "      <td>-106.5436</td>\n",
       "      <td>10.22</td>\n",
       "      <td>39</td>\n",
       "      <td>0</td>\n",
       "      <td>2.07</td>\n",
       "      <td>US</td>\n",
       "      <td>1667296548</td>\n",
       "    </tr>\n",
       "    <tr>\n",
       "      <th>2</th>\n",
       "      <td>paamiut</td>\n",
       "      <td>61.9940</td>\n",
       "      <td>-49.6678</td>\n",
       "      <td>-1.19</td>\n",
       "      <td>72</td>\n",
       "      <td>95</td>\n",
       "      <td>11.24</td>\n",
       "      <td>GL</td>\n",
       "      <td>1667296549</td>\n",
       "    </tr>\n",
       "    <tr>\n",
       "      <th>6</th>\n",
       "      <td>jamestown</td>\n",
       "      <td>42.0970</td>\n",
       "      <td>-79.2353</td>\n",
       "      <td>14.77</td>\n",
       "      <td>94</td>\n",
       "      <td>100</td>\n",
       "      <td>2.06</td>\n",
       "      <td>US</td>\n",
       "      <td>1667296552</td>\n",
       "    </tr>\n",
       "    <tr>\n",
       "      <th>7</th>\n",
       "      <td>hambantota</td>\n",
       "      <td>6.1241</td>\n",
       "      <td>81.1185</td>\n",
       "      <td>30.19</td>\n",
       "      <td>74</td>\n",
       "      <td>40</td>\n",
       "      <td>7.72</td>\n",
       "      <td>LK</td>\n",
       "      <td>1667296553</td>\n",
       "    </tr>\n",
       "    <tr>\n",
       "      <th>10</th>\n",
       "      <td>faya</td>\n",
       "      <td>18.3851</td>\n",
       "      <td>42.4509</td>\n",
       "      <td>25.06</td>\n",
       "      <td>32</td>\n",
       "      <td>29</td>\n",
       "      <td>4.03</td>\n",
       "      <td>SA</td>\n",
       "      <td>1667296556</td>\n",
       "    </tr>\n",
       "  </tbody>\n",
       "</table>\n",
       "</div>"
      ],
      "text/plain": [
       "                City      Lat       Lng  Max Temp  Humidity  Cloudiness  \\\n",
       "City_ID                                                                   \n",
       "1        meadow lake  34.8014 -106.5436     10.22        39           0   \n",
       "2            paamiut  61.9940  -49.6678     -1.19        72          95   \n",
       "6          jamestown  42.0970  -79.2353     14.77        94         100   \n",
       "7         hambantota   6.1241   81.1185     30.19        74          40   \n",
       "10              faya  18.3851   42.4509     25.06        32          29   \n",
       "\n",
       "         Wind Speed Country        Date  \n",
       "City_ID                                  \n",
       "1              2.07      US  1667296548  \n",
       "2             11.24      GL  1667296549  \n",
       "6              2.06      US  1667296552  \n",
       "7              7.72      LK  1667296553  \n",
       "10             4.03      SA  1667296556  "
      ]
     },
     "execution_count": 24,
     "metadata": {},
     "output_type": "execute_result"
    }
   ],
   "source": [
    "# Create a DataFrame with the Northern Hemisphere data (Latitude >= 0)\n",
    "northern_hemi_df = city_data_df.loc[(city_data_df[\"Lat\"] >= 0)]\n",
    "\n",
    "# Display sample data\n",
    "northern_hemi_df.head()"
   ]
  },
  {
   "cell_type": "code",
   "execution_count": 25,
   "metadata": {},
   "outputs": [
    {
     "data": {
      "text/html": [
       "<div>\n",
       "<style scoped>\n",
       "    .dataframe tbody tr th:only-of-type {\n",
       "        vertical-align: middle;\n",
       "    }\n",
       "\n",
       "    .dataframe tbody tr th {\n",
       "        vertical-align: top;\n",
       "    }\n",
       "\n",
       "    .dataframe thead th {\n",
       "        text-align: right;\n",
       "    }\n",
       "</style>\n",
       "<table border=\"1\" class=\"dataframe\">\n",
       "  <thead>\n",
       "    <tr style=\"text-align: right;\">\n",
       "      <th></th>\n",
       "      <th>City</th>\n",
       "      <th>Lat</th>\n",
       "      <th>Lng</th>\n",
       "      <th>Max Temp</th>\n",
       "      <th>Humidity</th>\n",
       "      <th>Cloudiness</th>\n",
       "      <th>Wind Speed</th>\n",
       "      <th>Country</th>\n",
       "      <th>Date</th>\n",
       "    </tr>\n",
       "    <tr>\n",
       "      <th>City_ID</th>\n",
       "      <th></th>\n",
       "      <th></th>\n",
       "      <th></th>\n",
       "      <th></th>\n",
       "      <th></th>\n",
       "      <th></th>\n",
       "      <th></th>\n",
       "      <th></th>\n",
       "      <th></th>\n",
       "    </tr>\n",
       "  </thead>\n",
       "  <tbody>\n",
       "    <tr>\n",
       "      <th>0</th>\n",
       "      <td>avarua</td>\n",
       "      <td>-21.2078</td>\n",
       "      <td>-159.7750</td>\n",
       "      <td>22.03</td>\n",
       "      <td>83</td>\n",
       "      <td>75</td>\n",
       "      <td>6.69</td>\n",
       "      <td>CK</td>\n",
       "      <td>1667296547</td>\n",
       "    </tr>\n",
       "    <tr>\n",
       "      <th>3</th>\n",
       "      <td>hithadhoo</td>\n",
       "      <td>-0.6000</td>\n",
       "      <td>73.0833</td>\n",
       "      <td>27.74</td>\n",
       "      <td>77</td>\n",
       "      <td>67</td>\n",
       "      <td>6.87</td>\n",
       "      <td>MV</td>\n",
       "      <td>1667296550</td>\n",
       "    </tr>\n",
       "    <tr>\n",
       "      <th>4</th>\n",
       "      <td>geraldton</td>\n",
       "      <td>-28.7667</td>\n",
       "      <td>114.6000</td>\n",
       "      <td>19.23</td>\n",
       "      <td>63</td>\n",
       "      <td>0</td>\n",
       "      <td>9.77</td>\n",
       "      <td>AU</td>\n",
       "      <td>1667296511</td>\n",
       "    </tr>\n",
       "    <tr>\n",
       "      <th>5</th>\n",
       "      <td>punta arenas</td>\n",
       "      <td>-53.1500</td>\n",
       "      <td>-70.9167</td>\n",
       "      <td>6.06</td>\n",
       "      <td>81</td>\n",
       "      <td>40</td>\n",
       "      <td>1.54</td>\n",
       "      <td>CL</td>\n",
       "      <td>1667296551</td>\n",
       "    </tr>\n",
       "    <tr>\n",
       "      <th>8</th>\n",
       "      <td>buala</td>\n",
       "      <td>-8.1450</td>\n",
       "      <td>159.5921</td>\n",
       "      <td>26.91</td>\n",
       "      <td>82</td>\n",
       "      <td>93</td>\n",
       "      <td>1.23</td>\n",
       "      <td>SB</td>\n",
       "      <td>1667296554</td>\n",
       "    </tr>\n",
       "  </tbody>\n",
       "</table>\n",
       "</div>"
      ],
      "text/plain": [
       "                 City      Lat       Lng  Max Temp  Humidity  Cloudiness  \\\n",
       "City_ID                                                                    \n",
       "0              avarua -21.2078 -159.7750     22.03        83          75   \n",
       "3           hithadhoo  -0.6000   73.0833     27.74        77          67   \n",
       "4           geraldton -28.7667  114.6000     19.23        63           0   \n",
       "5        punta arenas -53.1500  -70.9167      6.06        81          40   \n",
       "8               buala  -8.1450  159.5921     26.91        82          93   \n",
       "\n",
       "         Wind Speed Country        Date  \n",
       "City_ID                                  \n",
       "0              6.69      CK  1667296547  \n",
       "3              6.87      MV  1667296550  \n",
       "4              9.77      AU  1667296511  \n",
       "5              1.54      CL  1667296551  \n",
       "8              1.23      SB  1667296554  "
      ]
     },
     "execution_count": 25,
     "metadata": {},
     "output_type": "execute_result"
    }
   ],
   "source": [
    "# Create a DataFrame with the Southern Hemisphere data (Latitude < 0)\n",
    "southern_hemi_df = city_data_df.loc[(city_data_df[\"Lat\"] < 0)]\n",
    "\n",
    "# Display sample data\n",
    "southern_hemi_df.head()"
   ]
  },
  {
   "cell_type": "markdown",
   "metadata": {},
   "source": [
    "###  Temperature vs. Latitude Linear Regression Plot"
   ]
  },
  {
   "cell_type": "code",
   "execution_count": 26,
   "metadata": {},
   "outputs": [
    {
     "name": "stdout",
     "output_type": "stream",
     "text": [
      "The r-value is: 0.7417622231514788\n"
     ]
    },
    {
     "data": {
      "image/png": "[encoded data removed]",
      "text/plain": [
       "<Figure size 432x288 with 1 Axes>"
      ]
     },
     "metadata": {
      "needs_background": "light"
     },
     "output_type": "display_data"
    }
   ],
   "source": [
    "# Linear regression on Northern Hemisphere\n",
    "x_values = northern_hemi_df[\"Lat\"]\n",
    "y_values = northern_hemi_df[\"Max Temp\"]\n",
    "plot_linear_regression(x_values, y_values, 'Max Temp',(6,-10))"
   ]
  },
  {
   "cell_type": "code",
   "execution_count": 27,
   "metadata": {},
   "outputs": [
    {
     "name": "stdout",
     "output_type": "stream",
     "text": [
      "The r-value is: 0.4808132078598376\n"
     ]
    },
    {
     "data": {
      "image/png": "[encoded data removed]",
      "text/plain": [
       "<Figure size 432x288 with 1 Axes>"
      ]
     },
     "metadata": {
      "needs_background": "light"
     },
     "output_type": "display_data"
    }
   ],
   "source": [
    "# Linear regression on Southern Hemisphere\n",
    "x_values = southern_hemi_df[\"Lat\"]\n",
    "y_values = southern_hemi_df[\"Max Temp\"]\n",
    "plot_linear_regression(x_values, y_values, 'Max Temp',(-55,30))\n"
   ]
  },
  {
   "cell_type": "markdown",
   "metadata": {},
   "source": [
    "**Discussion about the linear relationship: In the northern hemisphere it is incidated that nearer the equator (Latitude = 0) the max temp is higher.\n",
    "The southern hemisphere has the same outcome.\n",
    "R-values are 0.741 and 0.48 "
   ]
  },
  {
   "cell_type": "markdown",
   "metadata": {},
   "source": [
    "### Humidity vs. Latitude Linear Regression Plot"
   ]
  },
  {
   "cell_type": "code",
   "execution_count": 28,
   "metadata": {},
   "outputs": [
    {
     "name": "stdout",
     "output_type": "stream",
     "text": [
      "The r-value is: 0.07969727227503016\n"
     ]
    },
    {
     "data": {
      "image/png": "[encoded data removed]",
      "text/plain": [
       "<Figure size 432x288 with 1 Axes>"
      ]
     },
     "metadata": {
      "needs_background": "light"
     },
     "output_type": "display_data"
    }
   ],
   "source": [
    "# Northern Hemisphere\n",
    "x_values = northern_hemi_df[\"Lat\"]\n",
    "y_values = northern_hemi_df[\"Humidity\"]\n",
    "plot_linear_regression(x_values, y_values, 'Humidity',(45,20))\n"
   ]
  },
  {
   "cell_type": "code",
   "execution_count": 29,
   "metadata": {},
   "outputs": [
    {
     "name": "stdout",
     "output_type": "stream",
     "text": [
      "The r-value is: 0.07031908840032226\n"
     ]
    },
    {
     "data": {
      "image/png": "[encoded data removed]",
      "text/plain": [
       "<Figure size 432x288 with 1 Axes>"
      ]
     },
     "metadata": {
      "needs_background": "light"
     },
     "output_type": "display_data"
    }
   ],
   "source": [
    "# Southern Hemisphere\n",
    "x_values = southern_hemi_df[\"Lat\"]\n",
    "y_values = southern_hemi_df[\"Humidity\"]\n",
    "plot_linear_regression(x_values, y_values, 'Humidity',(-50,20))"
   ]
  },
  {
   "cell_type": "markdown",
   "metadata": {},
   "source": [
    "**Discussion about the linear relationship: In the northern hemisphere the humidity trend appears reasonably consistent with a very slight increase at the north most point.\n",
    "This appears similiar for the southern hemisphere plot where the humidty increases marginally\n"
   ]
  },
  {
   "cell_type": "markdown",
   "metadata": {},
   "source": [
    "### Cloudiness vs. Latitude Linear Regression Plot"
   ]
  },
  {
   "cell_type": "code",
   "execution_count": 30,
   "metadata": {},
   "outputs": [
    {
     "name": "stdout",
     "output_type": "stream",
     "text": [
      "The r-value is: 0.039295067305468806\n"
     ]
    },
    {
     "data": {
      "image/png": "[encoded data removed]",
      "text/plain": [
       "<Figure size 432x288 with 1 Axes>"
      ]
     },
     "metadata": {
      "needs_background": "light"
     },
     "output_type": "display_data"
    }
   ],
   "source": [
    "# Northern Hemisphere\n",
    "x_values = northern_hemi_df[\"Lat\"]\n",
    "y_values = northern_hemi_df[\"Cloudiness\"]\n",
    "plot_linear_regression(x_values, y_values, 'Cloudiness',(45,20))\n"
   ]
  },
  {
   "cell_type": "code",
   "execution_count": 31,
   "metadata": {},
   "outputs": [
    {
     "name": "stdout",
     "output_type": "stream",
     "text": [
      "The r-value is: 0.10336925485804103\n"
     ]
    },
    {
     "data": {
      "image/png": "[encoded data removed]",
      "text/plain": [
       "<Figure size 432x288 with 1 Axes>"
      ]
     },
     "metadata": {
      "needs_background": "light"
     },
     "output_type": "display_data"
    }
   ],
   "source": [
    "# Southern Hemisphere\n",
    "x_values = southern_hemi_df[\"Lat\"]\n",
    "y_values = southern_hemi_df[\"Cloudiness\"]\n",
    "plot_linear_regression(x_values, y_values, 'Cloudiness',(-50,20))"
   ]
  },
  {
   "cell_type": "markdown",
   "metadata": {},
   "source": [
    "**Discussion about the linear relationship: Looking at the northern hemisphere, there is minimal correlation bewteen latitude and cloudiness, with an approximate 10% increase across the plot latitude.\n",
    "Southern hemisphere appears to have a higher relationship of cloudiness vs latitude."
   ]
  },
  {
   "cell_type": "markdown",
   "metadata": {},
   "source": [
    "### Wind Speed vs. Latitude Linear Regression Plot"
   ]
  },
  {
   "cell_type": "code",
   "execution_count": 32,
   "metadata": {},
   "outputs": [
    {
     "name": "stdout",
     "output_type": "stream",
     "text": [
      "The r-value is: 0.009907184501101342\n"
     ]
    },
    {
     "data": {
      "image/png": "[encoded data removed]",
      "text/plain": [
       "<Figure size 432x288 with 1 Axes>"
      ]
     },
     "metadata": {
      "needs_background": "light"
     },
     "output_type": "display_data"
    }
   ],
   "source": [
    "# Northern Hemisphere\n",
    "x_values = northern_hemi_df[\"Lat\"]\n",
    "y_values = northern_hemi_df[\"Wind Speed\"]\n",
    "plot_linear_regression(x_values, y_values, 'Wind Speed',(10,12))\n"
   ]
  },
  {
   "cell_type": "code",
   "execution_count": 33,
   "metadata": {},
   "outputs": [
    {
     "name": "stdout",
     "output_type": "stream",
     "text": [
      "The r-value is: 0.15948630384485626\n"
     ]
    },
    {
     "data": {
      "image/png": "[encoded data removed]",
      "text/plain": [
       "<Figure size 432x288 with 1 Axes>"
      ]
     },
     "metadata": {
      "needs_background": "light"
     },
     "output_type": "display_data"
    }
   ],
   "source": [
    "# Southern Hemisphere\n",
    "x_values = southern_hemi_df[\"Lat\"]\n",
    "y_values = southern_hemi_df[\"Wind Speed\"]\n",
    "plot_linear_regression(x_values, y_values, 'Wind Speed',(-55,9))"
   ]
  },
  {
   "cell_type": "markdown",
   "metadata": {},
   "source": [
    "**Discussion about the linear relationship:** In the Northern Hemisphere, there appears to be no relationship occurring between wind speed & latitude with the r-value being 0.009.\n",
    "The Southern Hemisphere statistics show marginal relationship as it moves away from the equator, with an r-value at 0.159"
   ]
  },
  {
   "cell_type": "code",
   "execution_count": null,
   "metadata": {},
   "outputs": [],
   "source": []
  }
 ],
 "metadata": {
  "anaconda-cloud": {},
  "kernel_info": {
   "name": "python3"
  },
  "kernelspec": {
   "display_name": "Python 3 (ipykernel)",
   "language": "python",
   "name": "python3"
  },
  "language_info": {
   "codemirror_mode": {
    "name": "ipython",
    "version": 3
   },
   "file_extension": ".py",
   "mimetype": "text/x-python",
   "name": "python",
   "nbconvert_exporter": "python",
   "pygments_lexer": "ipython3",
   "version": "3.9.12"
  },
  "latex_envs": {
   "LaTeX_envs_menu_present": true,
   "autoclose": false,
   "autocomplete": true,
   "bibliofile": "biblio.bib",
   "cite_by": "apalike",
   "current_citInitial": 1,
   "eqLabelWithNumbers": true,
   "eqNumInitial": 1,
   "hotkeys": {
    "equation": "Ctrl-E",
    "itemize": "Ctrl-I"
   },
   "labels_anchors": false,
   "latex_user_defs": false,
   "report_style_numbering": false,
   "user_envs_cfg": false
  },
  "nteract": {
   "version": "0.12.3"
  }
 },
 "nbformat": 4,
 "nbformat_minor": 4
}
